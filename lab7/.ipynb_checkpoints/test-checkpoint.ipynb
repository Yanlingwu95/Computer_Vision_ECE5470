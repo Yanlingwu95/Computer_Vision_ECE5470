{
 "cells": [
  {
   "cell_type": "code",
   "execution_count": 22,
   "metadata": {},
   "outputs": [
    {
     "name": "stdout",
     "output_type": "stream",
     "text": [
      "0.1.PNG.vx.png,0\n",
      "0.2.PNG.vx.png,0\n",
      "0.3.PNG.vx.png,0\n",
      "0.4.PNG.vx.png,0\n",
      "0.5.PNG.vx.png,0\n",
      "1.1.PNG.vx.png,1\n",
      "1.2.PNG.vx.png,1\n",
      "1.3.PNG.vx.png,1\n",
      "1.4.PNG.vx.png,1\n",
      "1.5.PNG.vx.png,1\n",
      "2.1.PNG.vx.png,2\n",
      "2.2.PNG.vx.png,2\n",
      "2.3.PNG.vx.png,2\n",
      "2.4.PNG.vx.png,2\n",
      "2.5.PNG.vx.png,2\n",
      "3.1.PNG.vx.png,3\n",
      "3.2.PNG.vx.png,3\n",
      "3.3.PNG.vx.png,3\n",
      "3.4.PNG.vx.png,3\n",
      "3.5.PNG.vx.png,3\n",
      "4.1.PNG.vx.png,4\n",
      "4.2.PNG.vx.png,4\n",
      "4.3.PNG.vx.png,4\n",
      "4.4.PNG.vx.png,4\n",
      "4.5.PNG.vx.png,4\n",
      "5.1.PNG.vx.png,5\n",
      "5.2.PNG.vx.png,5\n",
      "5.3.PNG.vx.png,5\n",
      "5.4.PNG.vx.png,5\n",
      "5.5.PNG.vx.png,5\n",
      "6.1.PNG.vx.png,6\n",
      "6.2.PNG.vx.png,6\n",
      "6.3.PNG.vx.png,6\n",
      "6.4.PNG.vx.png,6\n",
      "6.5.PNG.vx.png,6\n",
      "7.1.PNG.vx.png,7\n",
      "7.2.PNG.vx.png,7\n",
      "7.3.PNG.vx.png,7\n",
      "7.4.PNG.vx.png,7\n",
      "7.5.PNG.vx.png,7\n",
      "8.1.PNG.vx.png,8\n",
      "8.2.PNG.vx.png,8\n",
      "8.3.PNG.vx.png,8\n",
      "8.4.PNG.vx.png,8\n",
      "8.5.PNG.vx.png,8\n",
      "9.1.PNG.vx.png,9\n",
      "9.2.PNG.vx.png,9\n",
      "9.3.PNG.vx.png,9\n",
      "9.4.PNG.vx.png,9\n",
      "9.5.PNG.vx.png,9\n"
     ]
    }
   ],
   "source": [
    "for i in range(10):\n",
    "    for j in range(1,6):\n",
    "        print(str(i)+\".\"+str(j)+\".PNG.vx.png\"+\",\"+str(i))"
   ]
  },
  {
   "cell_type": "code",
   "execution_count": 4,
   "metadata": {},
   "outputs": [
    {
     "ename": "TypeError",
     "evalue": "unsupported operand type(s) for +: 'int' and 'str'",
     "output_type": "error",
     "traceback": [
      "\u001b[1;31m---------------------------------------------------------------------------\u001b[0m",
      "\u001b[1;31mTypeError\u001b[0m                                 Traceback (most recent call last)",
      "\u001b[1;32m<ipython-input-4-d4395f35b861>\u001b[0m in \u001b[0;36m<module>\u001b[1;34m()\u001b[0m\n\u001b[0;32m      1\u001b[0m \u001b[0ma\u001b[0m\u001b[1;33m=\u001b[0m\u001b[1;36m2\u001b[0m\u001b[1;33m\u001b[0m\u001b[0m\n\u001b[1;32m----> 2\u001b[1;33m \u001b[0mprint\u001b[0m\u001b[1;33m(\u001b[0m\u001b[0ma\u001b[0m \u001b[1;33m+\u001b[0m \u001b[1;34m\"r\"\u001b[0m\u001b[1;33m)\u001b[0m\u001b[1;33m\u001b[0m\u001b[0m\n\u001b[0m",
      "\u001b[1;31mTypeError\u001b[0m: unsupported operand type(s) for +: 'int' and 'str'"
     ]
    }
   ],
   "source": []
  },
  {
   "cell_type": "code",
   "execution_count": null,
   "metadata": {},
   "outputs": [],
   "source": []
  }
 ],
 "metadata": {
  "kernelspec": {
   "display_name": "tensorflow",
   "language": "python",
   "name": "tensorflow"
  },
  "language_info": {
   "codemirror_mode": {
    "name": "ipython",
    "version": 3
   },
   "file_extension": ".py",
   "mimetype": "text/x-python",
   "name": "python",
   "nbconvert_exporter": "python",
   "pygments_lexer": "ipython3",
   "version": "3.6.6"
  }
 },
 "nbformat": 4,
 "nbformat_minor": 2
}
