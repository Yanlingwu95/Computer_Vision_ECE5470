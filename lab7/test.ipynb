{
 "cells": [
  {
   "cell_type": "code",
   "execution_count": 28,
   "metadata": {
    "scrolled": true
   },
   "outputs": [
    {
     "name": "stdout",
     "output_type": "stream",
     "text": [
      "10.1.PNG.vx.png\n",
      "10.2.PNG.vx.png\n",
      "10.3.PNG.vx.png\n",
      "10.4.PNG.vx.png\n",
      "10.5.PNG.vx.png\n",
      "11.1.PNG.vx.png\n",
      "11.2.PNG.vx.png\n",
      "11.3.PNG.vx.png\n",
      "11.4.PNG.vx.png\n",
      "11.5.PNG.vx.png\n"
     ]
    }
   ],
   "source": [
    "for i in range(10,12):\n",
    "    for j in range(1,6):\n",
    "        print(str(i)+\".\"+str(j)+\".PNG.vx.png\")"
   ]
  },
  {
   "cell_type": "code",
   "execution_count": 4,
   "metadata": {},
   "outputs": [
    {
     "name": "stdout",
     "output_type": "stream",
     "text": [
      "['10.1.PNG.vx.png', 10]\n",
      "['10.2.PNG.vx.png', 10]\n",
      "['10.3.PNG.vx.png', 10]\n",
      "['10.4.PNG.vx.png', 10]\n",
      "['10.5.PNG.vx.png', 10]\n",
      "['11.1.PNG.vx.png', 11]\n",
      "['11.2.PNG.vx.png', 11]\n",
      "['11.3.PNG.vx.png', 11]\n",
      "['11.4.PNG.vx.png', 11]\n",
      "['11.5.PNG.vx.png', 11]\n"
     ]
    }
   ],
   "source": [
    "for i in range(10,12):\n",
    "    for j in range(1,6):\n",
    "        name = []\n",
    "        name_str = str(i)+\".\"+str(j)+\".PNG.vx.png\"\n",
    "        name.append(name_str)\n",
    "        name.append(i)\n",
    "        print(name)"
   ]
  },
  {
   "cell_type": "code",
   "execution_count": 20,
   "metadata": {},
   "outputs": [
    {
     "name": "stdout",
     "output_type": "stream",
     "text": [
      "['0.1.PNG.vx.png', '0']\n",
      "['0.2.PNG.vx.png', '0']\n",
      "['0.3.PNG.vx.png', '0']\n",
      "['0.4.PNG.vx.png', '0']\n",
      "['0.5.PNG.vx.png', '0']\n",
      "['1.1.PNG.vx.png', '1']\n",
      "['1.2.PNG.vx.png', '1']\n",
      "['1.3.PNG.vx.png', '1']\n",
      "['1.4.PNG.vx.png', '1']\n",
      "['1.5.PNG.vx.png', '1']\n",
      "['2.1.PNG.vx.png', '2']\n",
      "['2.2.PNG.vx.png', '2']\n",
      "['2.3.PNG.vx.png', '2']\n",
      "['2.4.PNG.vx.png', '2']\n",
      "['2.5.PNG.vx.png', '2']\n",
      "['3.1.PNG.vx.png', '3']\n",
      "['3.2.PNG.vx.png', '3']\n",
      "['3.3.PNG.vx.png', '3']\n",
      "['3.4.PNG.vx.png', '3']\n",
      "['3.5.PNG.vx.png', '3']\n",
      "['4.1.PNG.vx.png', '4']\n",
      "['4.2.PNG.vx.png', '4']\n",
      "['4.3.PNG.vx.png', '4']\n",
      "['4.4.PNG.vx.png', '4']\n",
      "['4.5.PNG.vx.png', '4']\n",
      "['5.1.PNG.vx.png', '5']\n",
      "['5.2.PNG.vx.png', '5']\n",
      "['5.3.PNG.vx.png', '5']\n",
      "['5.4.PNG.vx.png', '5']\n",
      "['5.5.PNG.vx.png', '5']\n",
      "['6.1.PNG.vx.png', '6']\n",
      "['6.2.PNG.vx.png', '6']\n",
      "['6.3.PNG.vx.png', '6']\n",
      "['6.4.PNG.vx.png', '6']\n",
      "['6.5.PNG.vx.png', '6']\n",
      "['7.1.PNG.vx.png', '7']\n",
      "['7.2.PNG.vx.png', '7']\n",
      "['7.3.PNG.vx.png', '7']\n",
      "['7.4.PNG.vx.png', '7']\n",
      "['7.5.PNG.vx.png', '7']\n",
      "['8.1.PNG.vx.png', '8']\n",
      "['8.2.PNG.vx.png', '8']\n",
      "['8.3.PNG.vx.png', '8']\n",
      "['8.4.PNG.vx.png', '8']\n",
      "['8.5.PNG.vx.png', '8']\n",
      "['9.1.PNG.vx.png', '9']\n",
      "['9.2.PNG.vx.png', '9']\n",
      "['9.3.PNG.vx.png', '9']\n",
      "['9.4.PNG.vx.png', '9']\n",
      "['9.5.PNG.vx.png', '9']\n",
      "['10.1.PNG.vx.png', '10']\n",
      "['10.2.PNG.vx.png', '11']\n",
      "['10.3.PNG.vx.png', '12']\n",
      "['10.4.PNG.vx.png', '13']\n",
      "['10.5.PNG.vx.png', '14']\n",
      "['11.1.PNG.vx.png', '15']\n",
      "['11.2.PNG.vx.png', '16']\n",
      "['11.3.PNG.vx.png', '17']\n",
      "['11.4.PNG.vx.png', '18']\n",
      "['11.5.PNG.vx.png', '19']\n"
     ]
    }
   ],
   "source": [
    "import csv\n",
    "csvFile = open(\"./idata/label.csv\",'w', newline='')\n",
    "writer = csv.writer(csvFile)\n",
    "\n",
    "for i in range(0,10):\n",
    "    for j in range(1,6):\n",
    "        name = []\n",
    "        name_str = str(i)+\".\"+str(j)+\".PNG.vx.png\"\n",
    "        name.append(name_str)\n",
    "        name.append(i)\n",
    "        writer.writerow(name)\n",
    "        del name\n",
    "count = 10\n",
    "for i in range(10,12):\n",
    "    for j in range(1,6):\n",
    "        name = []\n",
    "        name_str = str(i)+\".\"+str(j)+\".PNG.vx.png\"\n",
    "        name.append(name_str)\n",
    "        name.append(count)\n",
    "        count += 1\n",
    "        writer.writerow(name)\n",
    "        del name\n",
    "        \n",
    "csvFile.close()\n",
    "\n",
    "\n",
    "csvFile = open(\"./idata/label.csv\")\n",
    "read = csv.reader(csvFile)\n",
    "for line in read:  \n",
    "    print (line)\n",
    "csvFile.close()"
   ]
  },
  {
   "cell_type": "code",
   "execution_count": null,
   "metadata": {},
   "outputs": [],
   "source": []
  }
 ],
 "metadata": {
  "kernelspec": {
   "display_name": "tensorflow",
   "language": "python",
   "name": "tensorflow"
  },
  "language_info": {
   "codemirror_mode": {
    "name": "ipython",
    "version": 3
   },
   "file_extension": ".py",
   "mimetype": "text/x-python",
   "name": "python",
   "nbconvert_exporter": "python",
   "pygments_lexer": "ipython3",
   "version": "3.6.6"
  }
 },
 "nbformat": 4,
 "nbformat_minor": 2
}
