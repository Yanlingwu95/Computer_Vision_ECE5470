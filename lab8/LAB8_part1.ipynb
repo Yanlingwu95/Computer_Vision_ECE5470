{
 "cells": [
  {
   "cell_type": "markdown",
   "metadata": {
    "colab_type": "text",
    "id": "-m1iaoLTnzTF"
   },
   "source": [
    "# <center> Lab 8 Convolutional Neural Networks  </center>\n",
    "## <center> Yanling Wu </center>\n",
    "## <center> yw996 </center>\n",
    "\n",
    "## 1. Pytorch Learning Curves\n",
    "Int this section, we explore the effect of the training dataset size on system performance. At first, we used 250 data samples to acquire the general understanding of different hyperparameters. \n",
    "### (1) Explore the impact of hyperparameters \n",
    "Firstly, I changed the values of different hyperparameters and only changed one parameter at a time. The results are shown as below: \n",
    "\n",
    "The num-samples is 250:\n",
    "- iteration_times is 3:\n",
    "    - batch_size is 50, the accuracy is 64%. \n",
    "    - batch_size is 25, the accuracy is 87%. \n",
    "    - batch_size is 10, the accuracy is 90%. \n",
    "- iteration_times is 5:\n",
    "    - batch_size is 50, the accuracy is 66%. \n",
    "    - batch_size is 25, the accuracy is 92%. \n",
    "    - batch_size is 10, the accuracy is 90%. \n",
    "- iteration_times is 10:\n",
    "    - batch_size is 50, the accuracy is 92%. \n",
    "    - batch_size is 25, the accuracy is 100%. \n",
    "    - batch_size is 10, the accuracy is 90%. \n",
    "- iteration_times is 10 && batch_size is 25:\n",
    "    - learn_rate is 0.01, the accuracy is 96%. \n",
    "    - learn_rate is 0.001, the accuracy is 100%.\n",
    "    - learn_rate is 0.0001, the accuracy is 76%.\n",
    "\n",
    "All in all, from above results, we can see something important. \n",
    "- The times of iteration will improve the performance of the model because the times of iteration represents the times of training model and this times is biggers it will be better of performance, only if the model has not converged yet. \n",
    "- Batch_size is also a significant parameter that can change the performance of system hugely. If batch_size is big, it will taks more time to get a better accuracy of model. Hence, we need to consider suitable batch size and the times of iteration. \n",
    "- The learn rate can affect the accuracy of model significantly and for our model, the most fitting value of it is 0.001 within 10 times iteration. \n",
    "\n",
    "\n",
    "### (2) Different sizes of training dataset\n",
    "I chose six differetnt sizes of training dataset which are 250,1000, 5000, 10000, 40000, 60000. The hyperparameters are listed following: \n",
    "  - ** batch size ** : only for 250 data samples batch size is 50, and for others batch size is 100. \n",
    "  - ** iteration_times**  which is num_epochs  = 8.\n",
    "  - ** learning_rates = 0.001 ** . \n",
    "  - ** num_classes = 10 ** which should not be changed. \n",
    "  \n",
    "Based on above hyperparameters, I trained the model, do prediction and get the accuracy of them. Following the lab instruction, plot two times at a image to show the change trend of accuracy as the change of the size od dataset. The figure shows below: \n",
    "\n",
    "\n",
    "<center>\n",
    "<img src=\"./pic/accuracy_2lines.png\" width=\"60%\" height=\"60%\" />    \n",
    "Figure 1. The Accuracy of the traning dataset and the test dataset\n",
    "</center>\n",
    "\n",
    "### (3) Discussion\n",
    "\n",
    "There are something interesting we can know from this part. \n",
    "\n",
    "- The peredicted accuracy of the training dataset is always higher than that of test dataset, which is actually intuitive. Because this model is trained by training dataset which means it is easier for this model to predict correctly compared to test dataset which the model have not seen before. \n",
    "\n",
    "\n",
    "- In general, the size of train dataset is bigger, the accuracy of prediction is higher since the big size of training dataset can guarantee that there are more examples for model to extract the features of images. \n",
    "\n",
    "\n",
    "- When size of dataset is small, if it increased, the accuracy will be improved very hugely, like the change of size of train dataset from 250 to 10,000. However, when the accuracy has already been more than 96%, if we want to improve the system performance, we need a number of samples. For instance, when the size of training dataset changed from 10,000 to 60,000, the accuracy only changed from 98.28% to 98.93%. \n",
    "\n",
    "\n",
    "## 2. Pytorch system evaluation \n",
    "\n",
    "### (1) Select the worst and best case\n",
    "\n",
    "In this part, we will select the best and worst sizes of train dataset to train the model and test the dataset that we created by ourselves in last lab 7. \n",
    "\n",
    "\n",
    "The size of train dataset with the worst performance is 250 data samples with 25 batch size and the size of train dataset with the best performance is 60,000 data samples with 100 batch size. The worst and best cases of result in the part 1 shows below. \n",
    "\n",
    "|  | size of train dataset| Test Dataset Accuracy (%)|Batch size| \n",
    "| --- | --- | --- |--- |\n",
    "| The worst case| 250 | 88.01| 25|\n",
    "| The best case | 60,000| 99.86| 100|\n",
    "\n",
    "### (2) Result \n",
    "Use these two case to train the model and test the personal dataset and the train dataset. The result shows following: \n",
    "\n",
    "|  | size of train dataset| Train Dataset Accuracy (%)|Created Dataset's Accuracy (%)| \n",
    "| --- | --- | --- |--- |\n",
    "| The worst case| 250 | 88.01| 53.33|\n",
    "| The best case | 60,000| 99.86| 76.66|\n",
    "\n",
    "Also, I trained the all train dataset that I chose in part 1 and used them to predict the personally created dataset. Plot the accuracy change curve below: \n",
    "\n",
    "<center>\n",
    "<img src=\"./pic/accuracy_3lines.png\" width=\"60%\" height=\"60%\" />    \n",
    "Figure 2. The Accuracy of the traning dataset, the test dataset and personally created dataset\n",
    "</center>\n",
    "\n",
    "### (3) Discussion\n",
    "\n",
    "- Firstly, we can see the accuracy of the personally created dataset'accuracy is far lower than that of either train dataset or test dataset. This is because while we created dataset, we also create ten images that are totally unrelated to the ten digits. These the prediction of ten images will be definitely wrong, which lower down the predicted accuracy. \n",
    "\n",
    "\n",
    "- Secondly, there is one interesting thing that the accuracy change tendency of personally created dataset along with size of train dataset is similar to that of test dataset of MNIST. When the size od train dataset is small, the accuracy can be improved hugely. \n",
    "\n",
    "#### Note that I combine the code of part 1 and part2. \n",
    "\n",
    "\n",
    "## 3. Keras model design \n",
    "\n",
    "### (1) Show confusion matrix\n",
    "\n",
    "Run the code in the tutorial and it will take some time to run. Calculate the confusion matrix. In order to visualize data, plot the confusion matrix as \"heat map\". It shows below: \n",
    "\n",
    "\n",
    "<center>\n",
    "<img src=\"./pic/cfm_1.png\" width=\"50%\" height=\"50%\" />    \n",
    "Figure 3. confusion matrix for the result of the model in the tutorial\n",
    "</center>\n",
    "\n",
    "\n",
    "### (2) Compare the performance between using batch normalization and image standardization \n",
    "- Batch normalization is used to normalize the input layer by adjusting and scaling the activations. \n",
    "- Image standardization is used to normalize the images so that they have a mean 0.0 and a standard deviation of 1.0. \n",
    "\n",
    "Follow the lab instruction, modify the configuration of model to train it and the following table shows the results. We can see the batch normalization can help to improve the performance since the accuracy increased after adding the batch normalization. Besides, the image standardization can help to accelerate the speed of loss decreasing because after the first epoch, the validation accuracy increased from0.9806 to  0.9842. \n",
    "\n",
    "\n",
    "| What change | Accuracy | loos |\n",
    "| --- | --- | \n",
    "| origin, nothing to change | 0.991| 0.0265766 | \n",
    "| only add batchNormalization in all layers | 0.9917 | 0.0276597| \n",
    "| Only add standardization |0.9910|0.0292199 | \n",
    "| Add batchNormalization && Standardization | 0.9909|0.0291459|\n",
    "\n",
    "\n",
    "\n",
    "### （3） Add a new convolution layer\n",
    "Adding a new convolution layer can help to increase the accuracy of predicting. The below table shows the accuracy comparison. \n",
    "\n",
    "\n",
    "| What change | Accuracy | loos |\n",
    "| --- | --- | \n",
    "| origin, nothing to change | 0.991| 0.0265766 | \n",
    "| Add one more convolutional layer | 0.9932 | 0.02184936 |\n",
    "\n",
    "###  (4) Try to get the best result\n",
    "\n",
    "In order to improve the performance of the system, I tried to modeify different hyperparameters and I used 200 epoches to train the model which takes a lot of time to run. The result shows below: \n",
    "\n",
    "\n",
    "| | What change | Accuracy | loos |\n",
    "| --- | --- | --- | --- |\n",
    "| 1 | 3 convolutional layer & batchNormalization & batchsize = 64| 0.9944 | 0.05109033 | \n",
    "| 2 | 4 convolutional layer & batchNormalization & batchsize = 32| 0.9947 | 0.04382792 | \n",
    "| 3 | 4 convolutional layer & batchNormalization & batchsize = 64| 0.9961 | 0.04383031 | \n",
    "| 4 | 5 convolutional layer & batchNormalization & batchsize = 64| 0.9946 | 0.04442658 | \n",
    "| 5 | 3 convolutional layer & batchNormalization & batchsize = 128| 0.9943 | 0.0415949 |\n",
    "| 6 | 3 dense layers & batchNormalization & batchsize = 64| 0.9943 | 0.06143|  \n",
    "\n",
    "\n",
    "We can see the best accuracy I got is 99.61%. It increases from 99.15% to 99.61%. \n",
    "And the hyperparameters are shown the following table. \n",
    "\n",
    "|parameter name | value | \n",
    "| --- |--- |\n",
    "| batch size | 64 | \n",
    "| the number of epoch | 200| \n",
    "| the number of convolutional layers| 4| \n",
    "| the number of dense layers | 2| \n",
    "| BatchNormalization | used| \n",
    "| Standardization | used| \n",
    "\n",
    "\n",
    "The following figure shows the confusion matrix. Compared with the original one, there is less wrong prediction. \n",
    "\n",
    "<center>\n",
    "<img src=\"./pic/cfm_2.png\" width=\"50%\" height=\"50%\" />    \n",
    "Figure 4. confusion matrix for the best result\n",
    "</center>\n",
    "\n",
    "### （5) Discussion \n",
    "\n",
    "Some parameters can have a huge influence on the performanc of the keras model. \n",
    "- First of all, the number of layers in the model and what is the layer are very significant for model. From my modification about the model, I know that it is not good that there are too many number of layers. When the layers no matter the convolutional layers or dense layers are too many, the performancy of the system will get worse. Hence, I chose 4 convolutional layers and 2 dense layers to get the best result. \n",
    "\n",
    "\n",
    "- In addition, batch size can affect the performance too. I tried to change the batch size to 32, 64, 128. The best result are generated by batch size of 64. It means it is not true that the smaller batch sizes are better. \n",
    "\n",
    "\n",
    "- The number of epoch is important. In general, the bigger epoch will have better result. But if the model is good, the limited epoch can get the good performance. "
   ]
  },
  {
   "cell_type": "markdown",
   "metadata": {},
   "source": []
  },
  {
   "cell_type": "markdown",
   "metadata": {},
   "source": [
    "## 4. Code Appendix"
   ]
  },
  {
   "cell_type": "markdown",
   "metadata": {},
   "source": [
    "### (1) Pytorch code\n",
    "#### Grant Google Colab to read the data from my Google Drive"
   ]
  },
  {
   "cell_type": "code",
   "execution_count": 0,
   "metadata": {
    "colab": {
     "base_uri": "https://localhost:8080/",
     "height": 392
    },
    "colab_type": "code",
    "executionInfo": {
     "elapsed": 59228,
     "status": "ok",
     "timestamp": 1543247270391,
     "user": {
      "displayName": "Yanling Wu",
      "photoUrl": "https://lh6.googleusercontent.com/-u8By8ce8J3g/AAAAAAAAAAI/AAAAAAAAAAc/Kc_mVS4EgIg/s64/photo.jpg",
      "userId": "12488151021031492401"
     },
     "user_tz": 300
    },
    "id": "HBrDjobG2U97",
    "outputId": "a4fb21e5-0532-477a-967c-51d2a4e9177e"
   },
   "outputs": [
    {
     "name": "stdout",
     "output_type": "stream",
     "text": [
      "E: Package 'python-software-properties' has no installation candidate\n",
      "Selecting previously unselected package libfuse2:amd64.\n",
      "(Reading database ... 22298 files and directories currently installed.)\n",
      "Preparing to unpack .../libfuse2_2.9.7-1ubuntu1_amd64.deb ...\n",
      "Unpacking libfuse2:amd64 (2.9.7-1ubuntu1) ...\n",
      "Selecting previously unselected package fuse.\n",
      "Preparing to unpack .../fuse_2.9.7-1ubuntu1_amd64.deb ...\n",
      "Unpacking fuse (2.9.7-1ubuntu1) ...\n",
      "Selecting previously unselected package google-drive-ocamlfuse.\n",
      "Preparing to unpack .../google-drive-ocamlfuse_0.7.1-0ubuntu2~ubuntu18.04.1_amd64.deb ...\n",
      "Unpacking google-drive-ocamlfuse (0.7.1-0ubuntu2~ubuntu18.04.1) ...\n",
      "Setting up libfuse2:amd64 (2.9.7-1ubuntu1) ...\n",
      "Processing triggers for libc-bin (2.27-3ubuntu1) ...\n",
      "Setting up fuse (2.9.7-1ubuntu1) ...\n",
      "Setting up google-drive-ocamlfuse (0.7.1-0ubuntu2~ubuntu18.04.1) ...\n",
      "Please, open the following URL in a web browser: https://accounts.google.com/o/oauth2/auth?client_id=32555940559.apps.googleusercontent.com&redirect_uri=urn%3Aietf%3Awg%3Aoauth%3A2.0%3Aoob&scope=https%3A%2F%2Fwww.googleapis.com%2Fauth%2Fdrive&response_type=code&access_type=offline&approval_prompt=force\n",
      "··········\n",
      "Please, open the following URL in a web browser: https://accounts.google.com/o/oauth2/auth?client_id=32555940559.apps.googleusercontent.com&redirect_uri=urn%3Aietf%3Awg%3Aoauth%3A2.0%3Aoob&scope=https%3A%2F%2Fwww.googleapis.com%2Fauth%2Fdrive&response_type=code&access_type=offline&approval_prompt=force\n",
      "Please enter the verification code: Access token retrieved correctly.\n"
     ]
    }
   ],
   "source": [
    "# Grant Google Colab to read the data from my Google Drive\n",
    "!apt-get install -y -qq software-properties-common python-software-properties module-init-tools\n",
    "!add-apt-repository -y ppa:alessandro-strada/ppa 2>&1 > /dev/null\n",
    "\n",
    "!apt-get update -qq 2>&1 > /dev/null\n",
    "!apt-get -y install -qq google-drive-ocamlfuse fuse\n",
    "from google.colab import auth\n",
    "auth.authenticate_user()\n",
    "from oauth2client.client import GoogleCredentials\n",
    "creds = GoogleCredentials.get_application_default()\n",
    "import getpass\n",
    "!google-drive-ocamlfuse -headless -id={creds.client_id} -secret={creds.client_secret} < /dev/null 2>&1 | grep URL\n",
    "vcode = getpass.getpass()\n",
    "!echo {vcode} | google-drive-ocamlfuse -headless -id={creds.client_id} -secret={creds.client_secret}\n",
    "#Assign the name of root directionary of Google Drive \n",
    "!mkdir -p drive\n",
    "!google-drive-ocamlfuse drive\n",
    "import os\n",
    "os.chdir(\"drive/Acoustic_Localization/keras\") \n",
    "# show the file in directionary\n",
    "!ls"
   ]
  },
  {
   "cell_type": "markdown",
   "metadata": {},
   "source": [
    "#### Install the libraried that we need in Google Drive"
   ]
  },
  {
   "cell_type": "code",
   "execution_count": 0,
   "metadata": {
    "colab": {},
    "colab_type": "code",
    "id": "RaJ5m78uz1Km"
   },
   "outputs": [],
   "source": [
    "#install torch in google colab\n",
    "# http://pytorch.org/\n",
    "from os.path import exists\n",
    "from wheel.pep425tags import get_abbr_impl, get_impl_ver, get_abi_tag\n",
    "platform = '{}{}-{}'.format(get_abbr_impl(), get_impl_ver(), get_abi_tag())\n",
    "cuda_output = !ldconfig -p|grep cudart.so|sed -e 's/.*\\.\\([0-9]*\\)\\.\\([0-9]*\\)$/cu\\1\\2/'\n",
    "accelerator = cuda_output[0] if exists('/dev/nvidia0') else 'cpu'\n",
    "!pip install -q http://download.pytorch.org/whl/{accelerator}/torch-0.4.1-{platform}-linux_x86_64.whl torchvision\n",
    "\n",
    "!pip install Pillow==4.0.0\n",
    "!pip install PIL\n",
    "!pip install Image"
   ]
  },
  {
   "cell_type": "code",
   "execution_count": 0,
   "metadata": {
    "colab": {
     "base_uri": "https://localhost:8080/",
     "height": 204
    },
    "colab_type": "code",
    "executionInfo": {
     "elapsed": 4950,
     "status": "ok",
     "timestamp": 1543248011441,
     "user": {
      "displayName": "Yanling Wu",
      "photoUrl": "https://lh6.googleusercontent.com/-u8By8ce8J3g/AAAAAAAAAAI/AAAAAAAAAAc/Kc_mVS4EgIg/s64/photo.jpg",
      "userId": "12488151021031492401"
     },
     "user_tz": 300
    },
    "id": "EWi_QUEjudS8",
    "outputId": "0bd3c0a9-56c4-4a3b-f527-f2ae86ac2e4c"
   },
   "outputs": [
    {
     "name": "stdout",
     "output_type": "stream",
     "text": [
      "Requirement already satisfied: Pillow==4.0.0 in /usr/local/lib/python3.6/dist-packages (4.0.0)\n",
      "Requirement already satisfied: olefile in /usr/local/lib/python3.6/dist-packages (from Pillow==4.0.0) (0.46)\n",
      "Collecting PIL\n",
      "\u001b[31m  Could not find a version that satisfies the requirement PIL (from versions: )\u001b[0m\n",
      "\u001b[31mNo matching distribution found for PIL\u001b[0m\n",
      "Requirement already satisfied: Image in /usr/local/lib/python3.6/dist-packages (1.5.27)\n",
      "Requirement already satisfied: django in /usr/local/lib/python3.6/dist-packages (from Image) (2.1.3)\n",
      "Requirement already satisfied: pillow in /usr/local/lib/python3.6/dist-packages (from Image) (4.0.0)\n",
      "Requirement already satisfied: pytz in /usr/local/lib/python3.6/dist-packages (from django->Image) (2018.7)\n",
      "Requirement already satisfied: olefile in /usr/local/lib/python3.6/dist-packages (from pillow->Image) (0.46)\n"
     ]
    }
   ],
   "source": [
    "#import important libraries\n",
    "import PIL.Image\n",
    "import torch \n",
    "import torch.nn as nn\n",
    "import torchvision\n",
    "import torchvision.transforms as transforms\n",
    "import numpy as np\n",
    "import matplotlib.pyplot as plt\n",
    "from torch.utils.data.sampler import *"
   ]
  },
  {
   "cell_type": "markdown",
   "metadata": {},
   "source": [
    "#### Define the function to custom loader the data from local file"
   ]
  },
  {
   "cell_type": "code",
   "execution_count": 0,
   "metadata": {
    "colab": {},
    "colab_type": "code",
    "id": "t_7cC_5CoBlJ"
   },
   "outputs": [],
   "source": [
    "\"\"\" Custom datatset loader\n",
    "    based on https://github.com/utkuozbulak/pytorch-custom-dataset-examples\n",
    "\"\"\"\n",
    "    \n",
    "import pandas as pd\n",
    "from torch.utils.data.dataset import Dataset\n",
    "from torchvision import transforms\n",
    "from PIL import Image\n",
    "\n",
    "class SimpleDataset(Dataset):\n",
    "    def __init__(self, data_path, csv_name, transform = None ):\n",
    "        \"\"\"\n",
    "        Args:\n",
    "            data_path (string): path to the folder where images and csv files are located\n",
    "            csv_name (string): name of the csv lablel file\n",
    "            transform: pytorch transforms for transforms and tensor conversion\n",
    "        \"\"\"\n",
    "        # Set path\n",
    "        self.data_path = data_path\n",
    "        # Transforms\n",
    "        self.transform = transform\n",
    "        # Read the csv file\n",
    "        self.data_info = pd.read_csv(data_path + csv_name, header=None)\n",
    "        # First column contains the image paths\n",
    "        self.image_arr = np.asarray(self.data_info.iloc[:, 0])\n",
    "        # Second column is the labels\n",
    "        self.label_arr = np.asarray(self.data_info.iloc[:, 1])\n",
    "        # Calculate len\n",
    "        self.data_len = len(self.data_info.index)\n",
    "        \n",
    "\n",
    "    def __getitem__(self, index):\n",
    "        # Get image name from the pandas df\n",
    "        single_image_name = self.image_arr[index]\n",
    "        # Open image\n",
    "        img_as_img = Image.open(self.data_path + single_image_name)\n",
    "        if self.transform is not None:\n",
    "              img_as_img = self.transform(img_as_img)\n",
    "\n",
    "        # Get label(class) of the image based on the cropped pandas column\n",
    "        single_image_label = self.label_arr[index]\n",
    "        #convert to tensor to be consistent with MNIST dataset\n",
    "        single_image_label = torch.LongTensor( [ single_image_label ] )[0]\n",
    "        return (img_as_img, single_image_label)\n",
    "\n",
    "    def __len__(self):\n",
    "        return self.data_len\n"
   ]
  },
  {
   "cell_type": "markdown",
   "metadata": {},
   "source": [
    "#### Read the personally created dataset from Google Drive and show some images of them"
   ]
  },
  {
   "cell_type": "code",
   "execution_count": 0,
   "metadata": {
    "colab": {
     "base_uri": "https://localhost:8080/",
     "height": 64
    },
    "colab_type": "code",
    "executionInfo": {
     "elapsed": 207,
     "status": "ok",
     "timestamp": 1543250559726,
     "user": {
      "displayName": "Yanling Wu",
      "photoUrl": "https://lh6.googleusercontent.com/-u8By8ce8J3g/AAAAAAAAAAI/AAAAAAAAAAc/Kc_mVS4EgIg/s64/photo.jpg",
      "userId": "12488151021031492401"
     },
     "user_tz": 300
    },
    "id": "uxFmaR1ToFsi",
    "outputId": "f28f8433-1e98-4f7c-f77c-bbfe1d6e4391"
   },
   "outputs": [
    {
     "data": {
      "image/png": "[encoded data removed]",
      "text/plain": [
       "<PIL.Image.Image image mode=L size=28x28 at 0x7F39837D30B8>"
      ]
     },
     "metadata": {
      "tags": []
     },
     "output_type": "display_data"
    },
    {
     "name": "stdout",
     "output_type": "stream",
     "text": [
      "tensor(0)\n"
     ]
    }
   ],
   "source": [
    "from matplotlib.pyplot import imshow\n",
    "mydataT = SimpleDataset( \"./idata/\", \"label.csv\", transform=transforms.ToTensor())\n",
    "testc = mydataT[0]\n",
    "testT = testc[0]\n",
    "imgt = Image.fromarray((testT.numpy()[0] * 255).astype(\"uint8\"))\n",
    "display(imgt)\n",
    "print(testc[1])"
   ]
  },
  {
   "cell_type": "markdown",
   "metadata": {},
   "source": [
    "#### The body of code to define and train the model and test the dataset"
   ]
  },
  {
   "cell_type": "code",
   "execution_count": 0,
   "metadata": {
    "colab": {
     "base_uri": "https://localhost:8080/",
     "height": 578
    },
    "colab_type": "code",
    "executionInfo": {
     "elapsed": 150041,
     "status": "ok",
     "timestamp": 1543251643245,
     "user": {
      "displayName": "Yanling Wu",
      "photoUrl": "https://lh6.googleusercontent.com/-u8By8ce8J3g/AAAAAAAAAAI/AAAAAAAAAAc/Kc_mVS4EgIg/s64/photo.jpg",
      "userId": "12488151021031492401"
     },
     "user_tz": 300
    },
    "id": "93Im62Nz0MSD",
    "outputId": "8e71162c-55b8-4c50-80f5-8c79bd478c84"
   },
   "outputs": [
    {
     "name": "stdout",
     "output_type": "stream",
     "text": [
      "The number of smaples is 250\n",
      " Test Accuracy of the model on the test images: 87.82 %\n",
      "Test Accuracy of the model on the trained images: 98.8 %\n",
      "Test Accuracy of the model on my dataset images: 45.0 %\n",
      "\n",
      "The number of smaples is 1000\n",
      " Test Accuracy of the model on the test images: 93.6 %\n",
      "Test Accuracy of the model on the trained images: 98.6 %\n",
      "Test Accuracy of the model on my dataset images: 58.333333333333336 %\n",
      "\n",
      "The number of smaples is 5000\n",
      " Test Accuracy of the model on the test images: 97.52 %\n",
      "Test Accuracy of the model on the trained images: 99.52 %\n",
      "Test Accuracy of the model on my dataset images: 70.0 %\n",
      "\n",
      "The number of smaples is 10000\n",
      " Test Accuracy of the model on the test images: 98.28 %\n",
      "Test Accuracy of the model on the trained images: 99.95 %\n",
      "Test Accuracy of the model on my dataset images: 75.0 %\n",
      "\n",
      "The number of smaples is 40000\n",
      " Test Accuracy of the model on the test images: 98.91 %\n",
      "Test Accuracy of the model on the trained images: 99.83 %\n",
      "Test Accuracy of the model on my dataset images: 76.66666666666667 %\n",
      "\n",
      "The number of smaples is 60000\n",
      " Test Accuracy of the model on the test images: 98.83 %\n",
      "Test Accuracy of the model on the trained images: 99.79833333333333 %\n",
      "Test Accuracy of the model on my dataset images: 76.66666666666667 %\n",
      "\n"
     ]
    }
   ],
   "source": [
    "# Device configuration\n",
    "device = torch.device('cuda:0' if torch.cuda.is_available() else 'cpu')\n",
    "\n",
    "# Hyper parameters\n",
    "num_epochs = 8\n",
    "num_classes = 10 # the output size\n",
    "learning_rate = 0.001\n",
    "dataset = [250,1000, 5000, 10000, 40000, 60000]\n",
    "loss_mtr = np.zeros((len(dataset),num_epochs))\n",
    "accuracy = np.zeros((3,len(dataset)))\n",
    "count = -1 #record the number of nsamples\n",
    "batch_size = 100\n",
    "\n",
    "# MNIST dataset\n",
    "train_dataset = torchvision.datasets.MNIST(root='./data/',\n",
    "                                           train=True, \n",
    "                                           transform=transforms.ToTensor(),\n",
    "                                           download=True)\n",
    "\n",
    "test_dataset = torchvision.datasets.MNIST(root='./data/',\n",
    "                                          train=False, \n",
    "                                          transform=transforms.ToTensor())\n",
    "\n",
    "mydataT = SimpleDataset( \"./idata/\", \"label.csv\", transform=transforms.ToTensor())\n",
    "\n",
    "indices = torch.randperm(len(train_dataset))\n",
    "#define a function for obtaining subset\n",
    "def obtain_subset(origin_dataset = train_dataset, batch_size=100, datasize=250):\n",
    "  train_indices = indices[:datasize]\n",
    "  subset = torch.utils.data.DataLoader(dataset=origin_dataset, \n",
    "                                       batch_size=batch_size, \n",
    "                                       sampler=SubsetRandomSampler(train_indices))\n",
    "  return subset\n",
    "\n",
    "# Convolutional neural network (two convolutional layers)\n",
    "class ConvNet(nn.Module):\n",
    "    def __init__(self, num_classes=10):\n",
    "        super(ConvNet, self).__init__()\n",
    "        self.layer1 = nn.Sequential(\n",
    "            nn.Conv2d(1, 16, kernel_size=5, stride=1, padding=2),\n",
    "            nn.BatchNorm2d(16),\n",
    "            nn.ReLU(),\n",
    "            nn.MaxPool2d(kernel_size=2, stride=2))\n",
    "        self.layer2 = nn.Sequential(\n",
    "            nn.Conv2d(16, 32, kernel_size=5, stride=1, padding=2),\n",
    "            nn.BatchNorm2d(32),\n",
    "            nn.ReLU(),\n",
    "            nn.MaxPool2d(kernel_size=2, stride=2))\n",
    "        self.fc = nn.Linear(7*7*32, num_classes)\n",
    "        \n",
    "    def forward(self, x):\n",
    "        out = self.layer1(x)\n",
    "        out = self.layer2(out)\n",
    "        out = out.reshape(out.size(0), -1)\n",
    "        out = self.fc(out)\n",
    "        return out\n",
    "\n",
    "model = ConvNet(num_classes).to(device)\n",
    "\n",
    "\n",
    "# Loss and optimizer\n",
    "criterion = nn.CrossEntropyLoss()\n",
    "optimizer = torch.optim.Adam(model.parameters(), lr=learning_rate)\n",
    "\n",
    "for nsamples in dataset:\n",
    "  count += 1\n",
    "  if nsamples == 250:\n",
    "    batch_size = 25\n",
    "  else:\n",
    "    batch_size = 100\n",
    "  #get the train dataset\n",
    "  train_loader = obtain_subset(train_dataset,batch_size,nsamples)\n",
    "  \n",
    "  # Test Data loader\n",
    "  test_loader = torch.utils.data.DataLoader(dataset=test_dataset,\n",
    "                                          batch_size=batch_size, \n",
    "                                          shuffle=False)\n",
    "   # My Test Data loader\n",
    "  Mytest_loader = torch.utils.data.DataLoader(dataset=mydataT,\n",
    "                                          batch_size=batch_size, \n",
    "                                          shuffle=False)\n",
    "  # Train the model\n",
    "  total_step = len(train_loader)\n",
    " # print(\"len {}, total step is {}\".format(len(train_loader),total_step))\n",
    "  \n",
    "  for epoch in range(num_epochs):\n",
    "      for i, (images, labels) in enumerate(train_loader):\n",
    "          images = images.to(device)\n",
    "          labels = labels.to(device)\n",
    "\n",
    "          # Forward pass\n",
    "          outputs = model(images)\n",
    "          loss = criterion(outputs, labels)\n",
    "\n",
    "          # Backward and optimize\n",
    "          optimizer.zero_grad()\n",
    "          loss.backward()\n",
    "          optimizer.step()\n",
    "#           if (i+1) % 1 == 0:\n",
    "#               print ('Epoch [{}/{}], Step [{}/{}], Loss: {:.4f}' \n",
    "#                      .format(epoch+1, num_epochs, i+1, total_step, loss.item()))\n",
    "          loss_last = loss.item()\n",
    "      loss_mtr[count][epoch] = loss   \n",
    "\n",
    "  # Test dataset \n",
    "  model.eval()  # eval mode (batchnorm uses moving mean/variance instead of mini-batch mean/variance)\n",
    "  with torch.no_grad():\n",
    "      correct = 0\n",
    "      total = 0\n",
    "      for images, labels in test_loader:\n",
    "          images = images.to(device)\n",
    "          labels = labels.to(device)\n",
    "          outputs = model(images)\n",
    "          _, predicted = torch.max(outputs.data, 1)\n",
    "          total += labels.size(0)\n",
    "          correct += (predicted == labels).sum().item()\n",
    "      accuracy[0][count]= 100 * correct / total\n",
    "     # print(correct, total)\n",
    "  print('The number of smaples is {}\\n Test Accuracy of the model on the test images: {} %'.format(nsamples, accuracy[0][count]))\n",
    "  \n",
    "  #Test trained dataset\n",
    "  model.eval()  # eval mode (batchnorm uses moving mean/variance instead of mini-batch mean/variance)\n",
    "  with torch.no_grad():\n",
    "      correct = 0\n",
    "      total = 0\n",
    "      for images, labels in train_loader:\n",
    "          images = images.to(device)\n",
    "          labels = labels.to(device)\n",
    "          outputs = model(images)\n",
    "          _, predicted = torch.max(outputs.data, 1)\n",
    "          total += labels.size(0)\n",
    "          correct += (predicted == labels).sum().item()\n",
    "      accuracy[1][count]= 100 * (correct / total)\n",
    "     # print(correct, total)\n",
    "  print('Test Accuracy of the model on the trained images: {} %'.format(accuracy[1][count]))\n",
    "  \n",
    "  #Test My dataset dataset\n",
    "  model.eval()  # eval mode (batchnorm uses moving mean/variance instead of mini-batch mean/variance)\n",
    "  with torch.no_grad():\n",
    "      correct = 0\n",
    "      total = 0\n",
    "      for images, labels in Mytest_loader:\n",
    "          images = images.to(device)\n",
    "          labels = labels.to(device)\n",
    "          outputs = model(images)\n",
    "          _, predicted = torch.max(outputs.data, 1)\n",
    "          total += labels.size(0)\n",
    "          correct += (predicted == labels).sum().item()\n",
    "      accuracy[2][count]= 100 * (correct / total)\n",
    "     # print(correct, total)\n",
    "  print('Test Accuracy of the model on my dataset images: {} %\\n'.format(accuracy[2][count]))\n",
    "#   print('The loss is :{}\\n'.format(loss_mtr[count]))\n",
    "  "
   ]
  },
  {
   "cell_type": "code",
   "execution_count": 0,
   "metadata": {
    "colab": {},
    "colab_type": "code",
    "id": "x1z9dGlV0aKg"
   },
   "outputs": [],
   "source": [
    "# Save the model checkpoint\n",
    "torch.save(model.state_dict(), 'model.ckpt')"
   ]
  },
  {
   "cell_type": "markdown",
   "metadata": {},
   "source": [
    "#### Plot the figures that can help us analysis the results "
   ]
  },
  {
   "cell_type": "code",
   "execution_count": 69,
   "metadata": {
    "colab": {
     "base_uri": "https://localhost:8080/",
     "height": 488
    },
    "colab_type": "code",
    "executionInfo": {
     "elapsed": 5062,
     "status": "ok",
     "timestamp": 1543279216959,
     "user": {
      "displayName": "Yanling Wu",
      "photoUrl": "https://lh6.googleusercontent.com/-u8By8ce8J3g/AAAAAAAAAAI/AAAAAAAAAAc/Kc_mVS4EgIg/s64/photo.jpg",
      "userId": "12488151021031492401"
     },
     "user_tz": 300
    },
    "id": "LHFDfBttqY6a",
    "outputId": "558a74b4-82c3-4101-8299-de66985de059"
   },
   "outputs": [
    {
     "name": "stdout",
     "output_type": "stream",
     "text": [
      "[87.82 93.6  97.52 98.28 98.91 98.83]\n",
      "[98.8        98.6        99.52       99.95       99.83       99.79833333]\n"
     ]
    },
    {
     "name": "stderr",
     "output_type": "stream",
     "text": [
      "/usr/local/lib/python3.6/dist-packages/matplotlib/font_manager.py:1320: UserWarning: findfont: Font family ['Times New Roman'] not found. Falling back to DejaVu Sans\n",
      "  (prop.get_family(), self.defaultFamily[fontext]))\n"
     ]
    },
    {
     "data": {
      "image/png": "[encoded data removed]",
      "text/plain": [
       "<matplotlib.figure.Figure at 0x7f3983c25978>"
      ]
     },
     "metadata": {
      "tags": []
     },
     "output_type": "display_data"
    }
   ],
   "source": [
    "print(accuracy[0])\n",
    "print(accuracy[1])\n",
    "\n",
    "l1, = plt.plot(dataset,accuracy[0],marker='o')\n",
    "l2, = plt.plot(dataset,accuracy[1],'r--',marker='o')\n",
    "#l3, = plt.plot(dataset,accuracy[2],'b-',marker='o')\n",
    "plt.xlabel('the size of dataset')\n",
    "plt.ylabel('Accuracy / %')\n",
    "\n",
    "#设置图例并且设置图例的字体及大小\n",
    "font1 = {'family' : 'Times New Roman',\n",
    "'weight' : 'normal',\n",
    "'size'   : 18,\n",
    "}\n",
    "legend = plt.legend(handles = [l1, l2], labels = ['Test Dataset', 'Train Dataset'], loc = 'best',prop=font1)\n",
    "\n",
    "#legend = plt.legend(handles = [l1, l2,l3], labels = ['Test Dataset', 'Train Dataset','My dataset'], loc = 'best',prop=font1)\n",
    "plt.title('the relationship between Accuracy and the Size of Dataset',y=1.05,size=15)\n",
    "plt.savefig('Accuracy_fig2.png')\n",
    "plt.show()"
   ]
  },
  {
   "cell_type": "code",
   "execution_count": 71,
   "metadata": {
    "colab": {
     "base_uri": "https://localhost:8080/",
     "height": 507
    },
    "colab_type": "code",
    "executionInfo": {
     "elapsed": 8903,
     "status": "ok",
     "timestamp": 1543279361751,
     "user": {
      "displayName": "Yanling Wu",
      "photoUrl": "https://lh6.googleusercontent.com/-u8By8ce8J3g/AAAAAAAAAAI/AAAAAAAAAAc/Kc_mVS4EgIg/s64/photo.jpg",
      "userId": "12488151021031492401"
     },
     "user_tz": 300
    },
    "id": "PoQGWttm-2Lt",
    "outputId": "d9539f35-f39c-490f-e7b3-cf85e14eea44",
    "scrolled": true
   },
   "outputs": [
    {
     "name": "stdout",
     "output_type": "stream",
     "text": [
      "[87.82 93.6  97.52 98.28 98.91 98.83]\n",
      "[98.8        98.6        99.52       99.95       99.83       99.79833333]\n",
      "[45.         58.33333333 70.         75.         76.66666667 76.66666667]\n"
     ]
    },
    {
     "name": "stderr",
     "output_type": "stream",
     "text": [
      "/usr/local/lib/python3.6/dist-packages/matplotlib/font_manager.py:1320: UserWarning: findfont: Font family ['Times New Roman'] not found. Falling back to DejaVu Sans\n",
      "  (prop.get_family(), self.defaultFamily[fontext]))\n"
     ]
    },
    {
     "data": {
      "image/png": "[encoded data removed]",
      "text/plain": [
       "<matplotlib.figure.Figure at 0x7f3983a1d0b8>"
      ]
     },
     "metadata": {
      "tags": []
     },
     "output_type": "display_data"
    }
   ],
   "source": [
    "print(accuracy[0])\n",
    "print(accuracy[1])\n",
    "print(accuracy[2])\n",
    "\n",
    "l1, = plt.plot(dataset,accuracy[0],marker='o')\n",
    "l2, = plt.plot(dataset,accuracy[1],'r--',marker='o')\n",
    "l3, = plt.plot(dataset,accuracy[2],'b-',marker='o')\n",
    "plt.xlabel('the size of dataset')\n",
    "plt.ylabel('Accuracy / %')\n",
    "\n",
    "#设置图例并且设置图例的字体及大小\n",
    "font1 = {'family' : 'Times New Roman',\n",
    "'weight' : 'normal',\n",
    "'size'   : 18,\n",
    "}\n",
    "#legend = plt.legend(handles = [l1, l2], labels = ['Test Dataset', 'Train Dataset'], loc = 'best',prop=font1)\n",
    "\n",
    "legend = plt.legend(handles = [l1, l2,l3], labels = ['Test Dataset', 'Train Dataset','My dataset'], loc = 'best',prop=font1)\n",
    "plt.title('the relationship between Accuracy and the Size of Dataset',y=1.05,size=15)\n",
    "plt.savefig('Accuracy_fig1.png')\n",
    "plt.show()"
   ]
  },
  {
   "cell_type": "markdown",
   "metadata": {},
   "source": [
    "### (2) Keras Code"
   ]
  },
  {
   "cell_type": "markdown",
   "metadata": {},
   "source": [
    "#### Preprocess the dataset"
   ]
  },
  {
   "cell_type": "code",
   "execution_count": null,
   "metadata": {},
   "outputs": [],
   "source": [
    "from __future__ import print_function\n",
    "import keras\n",
    "from keras.datasets import mnist\n",
    "from keras.models import Sequential\n",
    "from keras.layers import Dense, Dropout, Flatten\n",
    "from keras.layers import Conv2D, MaxPooling2D\n",
    "from keras import backend as K\n",
    "import numpy as np\n",
    "\n",
    "batch_size = 64\n",
    "num_classes = 10\n",
    "epochs = 200\n",
    "\n",
    "# input image dimensions\n",
    "img_rows, img_cols = 28, 28\n",
    "\n",
    "# the data, split between train and test sets\n",
    "(x_train, y_train), (x_test, y_test_origin) = mnist.load_data()\n",
    "\n",
    "if K.image_data_format() == 'channels_first':\n",
    "    x_train = x_train.reshape(x_train.shape[0], 1, img_rows, img_cols)\n",
    "    x_test = x_test.reshape(x_test.shape[0], 1, img_rows, img_cols)\n",
    "    input_shape = (1, img_rows, img_cols)\n",
    "else:\n",
    "    x_train = x_train.reshape(x_train.shape[0], img_rows, img_cols, 1)\n",
    "    x_test = x_test.reshape(x_test.shape[0], img_rows, img_cols, 1)\n",
    "    input_shape = (img_rows, img_cols, 1)\n",
    "\n",
    "x_train = x_train.astype('float32')\n",
    "x_test = x_test.astype('float32')\n",
    "x_train /= 255\n",
    "x_test /= 255\n",
    "\n",
    "print('x_train shape:', x_train.shape)\n",
    "print(x_train.shape[0], 'train samples')\n",
    "print(x_test.shape[0], 'test samples')\n",
    "\n",
    "# convert class vectors to binary class matrices\n",
    "y_train = keras.utils.to_categorical(y_train, num_classes)\n",
    "y_test = keras.utils.to_categorical(y_test_origin, num_classes)"
   ]
  },
  {
   "cell_type": "markdown",
   "metadata": {},
   "source": [
    "#### Do standardization for dataset"
   ]
  },
  {
   "cell_type": "code",
   "execution_count": null,
   "metadata": {},
   "outputs": [],
   "source": [
    "#Do Standardization \n",
    "com = np.concatenate((x_train,x_test), axis = 0)\n",
    "print(com.shape)\n",
    "\n",
    "def do_standardization(X): \n",
    "  X_bar = np.mean(X)\n",
    "  X = X -X_bar\n",
    "  X_std = np.std(X) \n",
    "  return X_bar, X_std\n",
    "\n",
    "x_bar, x_std = do_standardization(com)\n",
    "x_train = (x_train - x_bar) / x_std \n",
    "x_test = (x_test - x_bar) / x_std\n",
    "print(x_train.shape, x_test.shape)"
   ]
  },
  {
   "cell_type": "markdown",
   "metadata": {},
   "source": [
    "#### Build the model and train the model"
   ]
  },
  {
   "cell_type": "code",
   "execution_count": null,
   "metadata": {},
   "outputs": [],
   "source": [
    "#Build model\n",
    "model = Sequential()\n",
    "\n",
    "keras.layers.normalization.BatchNormalization()\n",
    "model.add(Conv2D(32, kernel_size=(3, 3),\n",
    "                 activation='relu',\n",
    "                 input_shape=input_shape))\n",
    "\n",
    "model.add(Conv2D(64, (3, 3), activation='relu'))\n",
    "\n",
    "model.add(Conv2D(64, (3, 3), activation='relu'))\n",
    "\n",
    "model.add(MaxPooling2D(pool_size=(2, 2)))\n",
    "\n",
    "keras.layers.normalization.BatchNormalization()\n",
    "model.add(Dropout(0.25))\n",
    "model.add(Flatten())\n",
    "model.add(Dense(128, activation='relu'))\n",
    "\n",
    "keras.layers.normalization.BatchNormalization()\n",
    "model.add(Dropout(0.25))\n",
    "\n",
    "#model.add(Dense(128, activation='relu'))\n",
    "\n",
    "keras.layers.normalization.BatchNormalization()\n",
    "model.add(Dropout(0.5))\n",
    "model.add(Dense(num_classes, activation='softmax'))\n",
    "\n",
    "#Compile the model\n",
    "model.compile(loss=keras.losses.categorical_crossentropy,\n",
    "              optimizer=keras.optimizers.Adadelta(),\n",
    "              metrics=['accuracy'])\n",
    "\n",
    "\n",
    "# fit the model\n",
    "model.fit(x_train, y_train,\n",
    "          batch_size=batch_size,\n",
    "          epochs=epochs,\n",
    "          verbose=1,\n",
    "          validation_data=(x_test, y_test))\n",
    "\n",
    "score = model.evaluate(x_test, y_test, verbose=0)\n",
    "print('Test loss:', score[0])\n",
    "print('Test accuracy:', score[1])"
   ]
  },
  {
   "cell_type": "code",
   "execution_count": null,
   "metadata": {},
   "outputs": [],
   "source": [
    "# Predict the label\n",
    "\n",
    "y_predict = model.predict(x_test)\n"
   ]
  },
  {
   "cell_type": "markdown",
   "metadata": {},
   "source": [
    "#### Plot the confusion matrix"
   ]
  },
  {
   "cell_type": "code",
   "execution_count": null,
   "metadata": {},
   "outputs": [],
   "source": [
    "# the data, split between train and test sets\n",
    "(x_train, y_train), (x_test, y_test_origin) = mnist.load_data()\n",
    "\n",
    "\n",
    "y_predict_origin = np.zeros((len(y_test_origin)))\n",
    "for i in range(len(y_predict)):\n",
    "  for j in range(len(y_predict[i])):\n",
    "    y_predict[i][j] = round(y_predict[i][j])\n",
    "    if y_predict[i][j] == 1:\n",
    "      y_predict_origin[i] = j\n",
    "\n",
    "# ## For analysis show also the confusion matrix\n",
    "\n",
    "from sklearn.metrics import confusion_matrix\n",
    "cfm = confusion_matrix(y_test_origin, y_predict_origin)\n",
    "print (cfm)\n",
    "\n",
    "import matplotlib.pyplot as plt\n",
    "from matplotlib import cm\n",
    "import seaborn as sns; sns.set()\n",
    "plt.figure()\n",
    "plt.title('Confusion matrix',y=1.05,size=15)\n",
    "sns.heatmap(cfm,linewidths=0.1,fmt=\"d\",\n",
    "            square=True,linecolor='white',annot=True)\n",
    "plt.savefig('mtx_original.png')\n",
    "plt.show()"
   ]
  }
 ],
 "metadata": {
  "accelerator": "GPU",
  "colab": {
   "collapsed_sections": [],
   "name": "LAB8_part1.ipynb",
   "provenance": [],
   "version": "0.3.2"
  },
  "kernelspec": {
   "display_name": "Python 3",
   "language": "python",
   "name": "python3"
  },
  "language_info": {
   "codemirror_mode": {
    "name": "ipython",
    "version": 3
   },
   "file_extension": ".py",
   "mimetype": "text/x-python",
   "name": "python",
   "nbconvert_exporter": "python",
   "pygments_lexer": "ipython3",
   "version": "3.6.5"
  }
 },
 "nbformat": 4,
 "nbformat_minor": 1
}
